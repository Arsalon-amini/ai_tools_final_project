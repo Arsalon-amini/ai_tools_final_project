{
 "cells": [
  {
   "cell_type": "code",
   "execution_count": 1,
   "id": "060b4652",
   "metadata": {},
   "outputs": [
    {
     "name": "stdout",
     "output_type": "stream",
     "text": [
      "hello Gerald and World\n"
     ]
    }
   ],
   "source": [
    "print(\"hello Gerald and World\")"
   ]
  },
  {
   "cell_type": "code",
   "execution_count": null,
   "id": "d96c7587",
   "metadata": {},
   "outputs": [],
   "source": []
  }
 ],
 "metadata": {
  "kernelspec": {
   "display_name": "Python (myenv)",
   "language": "python",
   "name": "myenv"
  },
  "language_info": {
   "codemirror_mode": {
    "name": "ipython",
    "version": 3
   },
   "file_extension": ".py",
   "mimetype": "text/x-python",
   "name": "python",
   "nbconvert_exporter": "python",
   "pygments_lexer": "ipython3",
   "version": "3.11.5"
  }
 },
 "nbformat": 4,
 "nbformat_minor": 5
}
